{
 "cells": [
  {
   "cell_type": "code",
   "execution_count": 1,
   "metadata": {},
   "outputs": [],
   "source": [
    "import pandas as pd\n",
    "import seaborn as sns\n",
    "import matplotlib.pyplot as plt\n",
    "from category_encoders import BinaryEncoder\n",
    "from sklearn.impute import SimpleImputer\n",
    "from imblearn.over_sampling import SMOTE\n",
    "from sklearn.model_selection import train_test_split\n",
    "from sklearn.tree import DecisionTreeClassifier, export_graphviz\n",
    "import graphviz\n",
    "from joblib import dump, load\n",
    "from sklearn.metrics import accuracy_score, precision_score"
   ]
  },
  {
   "cell_type": "code",
   "execution_count": 2,
   "metadata": {},
   "outputs": [
    {
     "data": {
      "application/vnd.microsoft.datawrangler.viewer.v0+json": {
       "columns": [
        {
         "name": "index",
         "rawType": "int64",
         "type": "integer"
        },
        {
         "name": "Age",
         "rawType": "int64",
         "type": "integer"
        },
        {
         "name": "Gender",
         "rawType": "object",
         "type": "string"
        },
        {
         "name": "Speed_of_Impact",
         "rawType": "float64",
         "type": "float"
        },
        {
         "name": "Helmet_Used",
         "rawType": "object",
         "type": "string"
        },
        {
         "name": "Seatbelt_Used",
         "rawType": "object",
         "type": "string"
        },
        {
         "name": "Survived",
         "rawType": "int64",
         "type": "integer"
        }
       ],
       "conversionMethod": "pd.DataFrame",
       "ref": "0be785a7-c8e7-4fbb-967b-4c82d59e8538",
       "rows": [
        [
         "0",
         "56",
         "Female",
         "27.0",
         "No",
         "No",
         "1"
        ],
        [
         "1",
         "69",
         "Female",
         "46.0",
         "No",
         "Yes",
         "1"
        ],
        [
         "2",
         "46",
         "Male",
         "46.0",
         "Yes",
         "Yes",
         "0"
        ],
        [
         "3",
         "32",
         "Male",
         "117.0",
         "No",
         "Yes",
         "0"
        ],
        [
         "4",
         "60",
         "Female",
         "40.0",
         "Yes",
         "Yes",
         "0"
        ]
       ],
       "shape": {
        "columns": 6,
        "rows": 5
       }
      },
      "text/html": [
       "<div>\n",
       "<style scoped>\n",
       "    .dataframe tbody tr th:only-of-type {\n",
       "        vertical-align: middle;\n",
       "    }\n",
       "\n",
       "    .dataframe tbody tr th {\n",
       "        vertical-align: top;\n",
       "    }\n",
       "\n",
       "    .dataframe thead th {\n",
       "        text-align: right;\n",
       "    }\n",
       "</style>\n",
       "<table border=\"1\" class=\"dataframe\">\n",
       "  <thead>\n",
       "    <tr style=\"text-align: right;\">\n",
       "      <th></th>\n",
       "      <th>Age</th>\n",
       "      <th>Gender</th>\n",
       "      <th>Speed_of_Impact</th>\n",
       "      <th>Helmet_Used</th>\n",
       "      <th>Seatbelt_Used</th>\n",
       "      <th>Survived</th>\n",
       "    </tr>\n",
       "  </thead>\n",
       "  <tbody>\n",
       "    <tr>\n",
       "      <th>0</th>\n",
       "      <td>56</td>\n",
       "      <td>Female</td>\n",
       "      <td>27.0</td>\n",
       "      <td>No</td>\n",
       "      <td>No</td>\n",
       "      <td>1</td>\n",
       "    </tr>\n",
       "    <tr>\n",
       "      <th>1</th>\n",
       "      <td>69</td>\n",
       "      <td>Female</td>\n",
       "      <td>46.0</td>\n",
       "      <td>No</td>\n",
       "      <td>Yes</td>\n",
       "      <td>1</td>\n",
       "    </tr>\n",
       "    <tr>\n",
       "      <th>2</th>\n",
       "      <td>46</td>\n",
       "      <td>Male</td>\n",
       "      <td>46.0</td>\n",
       "      <td>Yes</td>\n",
       "      <td>Yes</td>\n",
       "      <td>0</td>\n",
       "    </tr>\n",
       "    <tr>\n",
       "      <th>3</th>\n",
       "      <td>32</td>\n",
       "      <td>Male</td>\n",
       "      <td>117.0</td>\n",
       "      <td>No</td>\n",
       "      <td>Yes</td>\n",
       "      <td>0</td>\n",
       "    </tr>\n",
       "    <tr>\n",
       "      <th>4</th>\n",
       "      <td>60</td>\n",
       "      <td>Female</td>\n",
       "      <td>40.0</td>\n",
       "      <td>Yes</td>\n",
       "      <td>Yes</td>\n",
       "      <td>0</td>\n",
       "    </tr>\n",
       "  </tbody>\n",
       "</table>\n",
       "</div>"
      ],
      "text/plain": [
       "   Age  Gender  Speed_of_Impact Helmet_Used Seatbelt_Used  Survived\n",
       "0   56  Female             27.0          No            No         1\n",
       "1   69  Female             46.0          No           Yes         1\n",
       "2   46    Male             46.0         Yes           Yes         0\n",
       "3   32    Male            117.0          No           Yes         0\n",
       "4   60  Female             40.0         Yes           Yes         0"
      ]
     },
     "execution_count": 2,
     "metadata": {},
     "output_type": "execute_result"
    }
   ],
   "source": [
    "accident_data = pd.read_csv('accident.csv')\n",
    "accident_data.head()"
   ]
  },
  {
   "cell_type": "code",
   "execution_count": 3,
   "metadata": {},
   "outputs": [
    {
     "data": {
      "application/vnd.microsoft.datawrangler.viewer.v0+json": {
       "columns": [
        {
         "name": "index",
         "rawType": "object",
         "type": "string"
        },
        {
         "name": "count",
         "rawType": "float64",
         "type": "float"
        },
        {
         "name": "mean",
         "rawType": "float64",
         "type": "float"
        },
        {
         "name": "std",
         "rawType": "float64",
         "type": "float"
        },
        {
         "name": "min",
         "rawType": "float64",
         "type": "float"
        },
        {
         "name": "25%",
         "rawType": "float64",
         "type": "float"
        },
        {
         "name": "50%",
         "rawType": "float64",
         "type": "float"
        },
        {
         "name": "75%",
         "rawType": "float64",
         "type": "float"
        },
        {
         "name": "max",
         "rawType": "float64",
         "type": "float"
        }
       ],
       "conversionMethod": "pd.DataFrame",
       "ref": "bf7bfd43-69bd-4634-8e18-e90d0d40b665",
       "rows": [
        [
         "Age",
         "200.0",
         "43.425",
         "14.94191013197308",
         "18.0",
         "31.0",
         "43.5",
         "56.0",
         "69.0"
        ],
        [
         "Speed_of_Impact",
         "197.0",
         "70.44162436548223",
         "30.125297752800943",
         "20.0",
         "43.0",
         "71.0",
         "95.0",
         "119.0"
        ],
        [
         "Survived",
         "200.0",
         "0.505",
         "0.5012296437551299",
         "0.0",
         "0.0",
         "1.0",
         "1.0",
         "1.0"
        ]
       ],
       "shape": {
        "columns": 8,
        "rows": 3
       }
      },
      "text/html": [
       "<div>\n",
       "<style scoped>\n",
       "    .dataframe tbody tr th:only-of-type {\n",
       "        vertical-align: middle;\n",
       "    }\n",
       "\n",
       "    .dataframe tbody tr th {\n",
       "        vertical-align: top;\n",
       "    }\n",
       "\n",
       "    .dataframe thead th {\n",
       "        text-align: right;\n",
       "    }\n",
       "</style>\n",
       "<table border=\"1\" class=\"dataframe\">\n",
       "  <thead>\n",
       "    <tr style=\"text-align: right;\">\n",
       "      <th></th>\n",
       "      <th>count</th>\n",
       "      <th>mean</th>\n",
       "      <th>std</th>\n",
       "      <th>min</th>\n",
       "      <th>25%</th>\n",
       "      <th>50%</th>\n",
       "      <th>75%</th>\n",
       "      <th>max</th>\n",
       "    </tr>\n",
       "  </thead>\n",
       "  <tbody>\n",
       "    <tr>\n",
       "      <th>Age</th>\n",
       "      <td>200.0</td>\n",
       "      <td>43.425000</td>\n",
       "      <td>14.941910</td>\n",
       "      <td>18.0</td>\n",
       "      <td>31.0</td>\n",
       "      <td>43.5</td>\n",
       "      <td>56.0</td>\n",
       "      <td>69.0</td>\n",
       "    </tr>\n",
       "    <tr>\n",
       "      <th>Speed_of_Impact</th>\n",
       "      <td>197.0</td>\n",
       "      <td>70.441624</td>\n",
       "      <td>30.125298</td>\n",
       "      <td>20.0</td>\n",
       "      <td>43.0</td>\n",
       "      <td>71.0</td>\n",
       "      <td>95.0</td>\n",
       "      <td>119.0</td>\n",
       "    </tr>\n",
       "    <tr>\n",
       "      <th>Survived</th>\n",
       "      <td>200.0</td>\n",
       "      <td>0.505000</td>\n",
       "      <td>0.501230</td>\n",
       "      <td>0.0</td>\n",
       "      <td>0.0</td>\n",
       "      <td>1.0</td>\n",
       "      <td>1.0</td>\n",
       "      <td>1.0</td>\n",
       "    </tr>\n",
       "  </tbody>\n",
       "</table>\n",
       "</div>"
      ],
      "text/plain": [
       "                 count       mean        std   min   25%   50%   75%    max\n",
       "Age              200.0  43.425000  14.941910  18.0  31.0  43.5  56.0   69.0\n",
       "Speed_of_Impact  197.0  70.441624  30.125298  20.0  43.0  71.0  95.0  119.0\n",
       "Survived         200.0   0.505000   0.501230   0.0   0.0   1.0   1.0    1.0"
      ]
     },
     "execution_count": 3,
     "metadata": {},
     "output_type": "execute_result"
    }
   ],
   "source": [
    "accident_data.describe().T"
   ]
  },
  {
   "cell_type": "code",
   "execution_count": 4,
   "metadata": {},
   "outputs": [],
   "source": [
    "n_data = accident_data.dropna()"
   ]
  },
  {
   "cell_type": "code",
   "execution_count": 5,
   "metadata": {},
   "outputs": [
    {
     "data": {
      "application/vnd.microsoft.datawrangler.viewer.v0+json": {
       "columns": [
        {
         "name": "index",
         "rawType": "object",
         "type": "string"
        },
        {
         "name": "count",
         "rawType": "float64",
         "type": "float"
        },
        {
         "name": "mean",
         "rawType": "float64",
         "type": "float"
        },
        {
         "name": "std",
         "rawType": "float64",
         "type": "float"
        },
        {
         "name": "min",
         "rawType": "float64",
         "type": "float"
        },
        {
         "name": "25%",
         "rawType": "float64",
         "type": "float"
        },
        {
         "name": "50%",
         "rawType": "float64",
         "type": "float"
        },
        {
         "name": "75%",
         "rawType": "float64",
         "type": "float"
        },
        {
         "name": "max",
         "rawType": "float64",
         "type": "float"
        }
       ],
       "conversionMethod": "pd.DataFrame",
       "ref": "66ec81c1-c1d0-4db3-9701-0772f6360ce8",
       "rows": [
        [
         "Age",
         "196.0",
         "43.34183673469388",
         "15.004973011326733",
         "18.0",
         "31.0",
         "44.0",
         "56.0",
         "69.0"
        ],
        [
         "Speed_of_Impact",
         "196.0",
         "70.43367346938776",
         "30.202236099513883",
         "20.0",
         "43.0",
         "71.0",
         "95.5",
         "119.0"
        ],
        [
         "Survived",
         "196.0",
         "0.5102040816326531",
         "0.5011760110325889",
         "0.0",
         "0.0",
         "1.0",
         "1.0",
         "1.0"
        ]
       ],
       "shape": {
        "columns": 8,
        "rows": 3
       }
      },
      "text/html": [
       "<div>\n",
       "<style scoped>\n",
       "    .dataframe tbody tr th:only-of-type {\n",
       "        vertical-align: middle;\n",
       "    }\n",
       "\n",
       "    .dataframe tbody tr th {\n",
       "        vertical-align: top;\n",
       "    }\n",
       "\n",
       "    .dataframe thead th {\n",
       "        text-align: right;\n",
       "    }\n",
       "</style>\n",
       "<table border=\"1\" class=\"dataframe\">\n",
       "  <thead>\n",
       "    <tr style=\"text-align: right;\">\n",
       "      <th></th>\n",
       "      <th>count</th>\n",
       "      <th>mean</th>\n",
       "      <th>std</th>\n",
       "      <th>min</th>\n",
       "      <th>25%</th>\n",
       "      <th>50%</th>\n",
       "      <th>75%</th>\n",
       "      <th>max</th>\n",
       "    </tr>\n",
       "  </thead>\n",
       "  <tbody>\n",
       "    <tr>\n",
       "      <th>Age</th>\n",
       "      <td>196.0</td>\n",
       "      <td>43.341837</td>\n",
       "      <td>15.004973</td>\n",
       "      <td>18.0</td>\n",
       "      <td>31.0</td>\n",
       "      <td>44.0</td>\n",
       "      <td>56.0</td>\n",
       "      <td>69.0</td>\n",
       "    </tr>\n",
       "    <tr>\n",
       "      <th>Speed_of_Impact</th>\n",
       "      <td>196.0</td>\n",
       "      <td>70.433673</td>\n",
       "      <td>30.202236</td>\n",
       "      <td>20.0</td>\n",
       "      <td>43.0</td>\n",
       "      <td>71.0</td>\n",
       "      <td>95.5</td>\n",
       "      <td>119.0</td>\n",
       "    </tr>\n",
       "    <tr>\n",
       "      <th>Survived</th>\n",
       "      <td>196.0</td>\n",
       "      <td>0.510204</td>\n",
       "      <td>0.501176</td>\n",
       "      <td>0.0</td>\n",
       "      <td>0.0</td>\n",
       "      <td>1.0</td>\n",
       "      <td>1.0</td>\n",
       "      <td>1.0</td>\n",
       "    </tr>\n",
       "  </tbody>\n",
       "</table>\n",
       "</div>"
      ],
      "text/plain": [
       "                 count       mean        std   min   25%   50%   75%    max\n",
       "Age              196.0  43.341837  15.004973  18.0  31.0  44.0  56.0   69.0\n",
       "Speed_of_Impact  196.0  70.433673  30.202236  20.0  43.0  71.0  95.5  119.0\n",
       "Survived         196.0   0.510204   0.501176   0.0   0.0   1.0   1.0    1.0"
      ]
     },
     "execution_count": 5,
     "metadata": {},
     "output_type": "execute_result"
    }
   ],
   "source": [
    "n_data.describe().T"
   ]
  },
  {
   "cell_type": "code",
   "execution_count": 6,
   "metadata": {},
   "outputs": [
    {
     "data": {
      "image/png": "[encoded data removed]",
      "text/plain": [
       "<Figure size 800x480 with 1 Axes>"
      ]
     },
     "metadata": {},
     "output_type": "display_data"
    }
   ],
   "source": [
    "data = n_data[['Survived', 'Gender']]\n",
    "grouped_data = data.groupby(['Survived', 'Gender']).size().reset_index(name='Counts')\n",
    "\n",
    "fig, ax = plt.subplots(figsize=(10, 6), dpi=80)\n",
    "grouped_data['Survived'] = grouped_data['Survived'].replace({0: 'O', 1: '1'})\n",
    "grouped_data['Gender'] = grouped_data['Gender'].replace({0: 'Male', 1: 'Female'})\n",
    "\n",
    "sns.barplot(x='Survived', y='Counts', hue='Gender', data=grouped_data, palette=['#3F7D58', '#EF9651'])\n",
    "ax.set_title('Survived and Gender')\n",
    "ax.set_ylabel('Numbers', size=12)\n",
    "ax.set_xlabel('Customer Survived', size=12)\n",
    "plt.show()"
   ]
  },
  {
   "cell_type": "code",
   "execution_count": 7,
   "metadata": {},
   "outputs": [
    {
     "data": {
      "image/png": "[encoded data removed]",
      "text/plain": [
       "<Figure size 800x480 with 1 Axes>"
      ]
     },
     "metadata": {},
     "output_type": "display_data"
    }
   ],
   "source": [
    "data = n_data[['Survived', 'Helmet_Used']]\n",
    "grouped_data = data.groupby(['Survived', 'Helmet_Used']).size().reset_index(name='Counts')\n",
    "\n",
    "fig, ax = plt.subplots(figsize=(10, 6), dpi=80)\n",
    "grouped_data['Survived'] = grouped_data['Survived'].replace({0: 'O', 1: '1'})\n",
    "grouped_data['Helmet_Used'] = grouped_data['Helmet_Used'].replace({0: 'Male', 1: 'Female'})\n",
    "\n",
    "sns.barplot(x='Survived', y='Counts', hue='Helmet_Used', data=grouped_data, palette=['#3F7D58', '#EF9651'])\n",
    "ax.set_title('Survived and Helmet_Used')\n",
    "ax.set_ylabel('Numbers', size=12)\n",
    "ax.set_xlabel('Customer Survived', size=12)\n",
    "plt.show()"
   ]
  },
  {
   "cell_type": "code",
   "execution_count": 8,
   "metadata": {},
   "outputs": [
    {
     "data": {
      "image/png": "[encoded data removed]",
      "text/plain": [
       "<Figure size 800x480 with 1 Axes>"
      ]
     },
     "metadata": {},
     "output_type": "display_data"
    }
   ],
   "source": [
    "data = n_data[['Survived', 'Seatbelt_Used']]\n",
    "grouped_data = data.groupby(['Survived', 'Seatbelt_Used']).size().reset_index(name='Counts')\n",
    "\n",
    "fig, ax = plt.subplots(figsize=(10, 6), dpi=80)\n",
    "grouped_data['Survived'] = grouped_data['Survived'].replace({0: 'O', 1: '1'})\n",
    "grouped_data['Seatbelt_Used'] = grouped_data['Seatbelt_Used'].replace({0: 'Male', 1: 'Female'})\n",
    "\n",
    "sns.barplot(x='Survived', y='Counts', hue='Seatbelt_Used', data=grouped_data, palette=['#3F7D58', '#EF9651'])\n",
    "ax.set_title('Survived and Seatbelt_Used')\n",
    "ax.set_ylabel('Numbers', size=12)\n",
    "ax.set_xlabel('Customer Survived', size=12)\n",
    "plt.show()"
   ]
  },
  {
   "cell_type": "code",
   "execution_count": 9,
   "metadata": {},
   "outputs": [],
   "source": [
    "x = accident_data.drop(columns=['Survived'])\n",
    "y = accident_data['Survived']"
   ]
  },
  {
   "cell_type": "code",
   "execution_count": 10,
   "metadata": {},
   "outputs": [],
   "source": [
    "categorical_features = ['Gender', 'Helmet_Used', 'Seatbelt_Used']\n",
    "encoder = BinaryEncoder()\n",
    "x_encoded = encoder.fit_transform(x[categorical_features])\n",
    "x = x.drop(categorical_features, axis=1)\n",
    "x = x.reset_index(drop=True)\n",
    "x_encoded = x_encoded.reset_index(drop=True)\n",
    "x = pd.concat([x, x_encoded], axis=1)"
   ]
  },
  {
   "cell_type": "code",
   "execution_count": 11,
   "metadata": {},
   "outputs": [],
   "source": [
    "imputer = SimpleImputer(strategy='mean')\n",
    "x_imputed = pd.DataFrame(imputer.fit_transform(x), columns=x.columns)\n",
    "\n",
    "# Apply SMOTE\n",
    "smote = SMOTE()\n",
    "x, y = smote.fit_resample(x_imputed, y)"
   ]
  },
  {
   "cell_type": "code",
   "execution_count": 12,
   "metadata": {},
   "outputs": [
    {
     "data": {
      "text/plain": [
       "Survived\n",
       "1    101\n",
       "0    101\n",
       "Name: count, dtype: int64"
      ]
     },
     "execution_count": 12,
     "metadata": {},
     "output_type": "execute_result"
    }
   ],
   "source": [
    "y.value_counts()"
   ]
  },
  {
   "cell_type": "code",
   "execution_count": 13,
   "metadata": {},
   "outputs": [],
   "source": [
    "x_train, x_test, y_train, y_test = train_test_split(x, y, test_size= .25, random_state=42)"
   ]
  },
  {
   "cell_type": "code",
   "execution_count": 14,
   "metadata": {},
   "outputs": [
    {
     "data": {
      "text/plain": [
       "['decision_tree_model.joblib']"
      ]
     },
     "execution_count": 14,
     "metadata": {},
     "output_type": "execute_result"
    }
   ],
   "source": [
    "dcs = DecisionTreeClassifier()\n",
    "dcs.fit(x_train, y_train)\n",
    "export_graphviz(dcs, out_file='tree.dot', filled=True, feature_names=x_train.columns)\n",
    "\n",
    "with open(\"tree.dot\") as f:\n",
    "    dot_graph = f.read()\n",
    "graphviz.Source(dot_graph) \n",
    "\n",
    "#save model\n",
    "dump(dcs, \"decision_tree_model.joblib\")"
   ]
  },
  {
   "cell_type": "code",
   "execution_count": 15,
   "metadata": {},
   "outputs": [
    {
     "name": "stdout",
     "output_type": "stream",
     "text": [
      "Accuracy: 50.98039215686274\n",
      "Precision: 56.52173913043478\n"
     ]
    }
   ],
   "source": [
    "dcs_prediction = dcs.predict(x_test)\n",
    "dcs_accuracy = accuracy_score(dcs_prediction, y_test)\n",
    "dcs_precision = precision_score(dcs_prediction, y_test)\n",
    "\n",
    "print(f\"Accuracy: {dcs_accuracy*100}\")\n",
    "print(f\"Precision: {dcs_precision*100}\")"
   ]
  },
  {
   "cell_type": "code",
   "execution_count": 16,
   "metadata": {},
   "outputs": [],
   "source": [
    "loaded_model = load(\"decision_tree_model.joblib\")\n",
    "loaded_prediction = loaded_model.predict(x_test)"
   ]
  }
 ],
 "metadata": {
  "kernelspec": {
   "display_name": "Python 3",
   "language": "python",
   "name": "python3"
  },
  "language_info": {
   "codemirror_mode": {
    "name": "ipython",
    "version": 3
   },
   "file_extension": ".py",
   "mimetype": "text/x-python",
   "name": "python",
   "nbconvert_exporter": "python",
   "pygments_lexer": "ipython3",
   "version": "3.10.12"
  }
 },
 "nbformat": 4,
 "nbformat_minor": 2
}
